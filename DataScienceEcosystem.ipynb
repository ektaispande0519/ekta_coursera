{
 "cells": [
  {
   "cell_type": "markdown",
   "id": "1b5a6394-7a95-4301-962c-b14604b67e6f",
   "metadata": {},
   "source": [
    "# Data Science Tools and Ecosystem"
   ]
  },
  {
   "cell_type": "markdown",
   "id": "29579e12-965e-4885-b776-88f4d8dc7754",
   "metadata": {},
   "source": [
    "In this notebook, Data Science Tools and Ecosystem are summarized."
   ]
  },
  {
   "cell_type": "markdown",
   "id": "dfcc71ba-7f95-478d-8a5e-ca5fe2d12d8b",
   "metadata": {},
   "source": [
    "# Some of the popular languages that Data Scientists use are:"
   ]
  },
  {
   "cell_type": "markdown",
   "id": "c731e36e-546d-4679-bd2f-d72692673b74",
   "metadata": {},
   "source": [
    "1. Python  \n",
    "2. R  \n",
    "3. SQL  \n",
    "4. Julia  \n",
    "5. Scala"
   ]
  },
  {
   "cell_type": "markdown",
   "id": "b60318de-da1b-4c89-909b-f869c6bff26b",
   "metadata": {},
   "source": [
    "# Some of the commonly used libraries used by Data Scientists include:\n"
   ]
  },
  {
   "cell_type": "markdown",
   "id": "47c68b54-3ac0-4f3d-b84f-f36df77ead6e",
   "metadata": {},
   "source": [
    "1. NumPy  \n",
    "2. Pandas  \n",
    "3. Matplotlib  \n",
    "4. Scikit-learn  \n",
    "5. TensorFlow  \n",
    "6. PyTorch"
   ]
  },
  {
   "cell_type": "markdown",
   "id": "7d147784-9e75-4922-b068-2e25ae4aecec",
   "metadata": {},
   "source": [
    "|  Data Science Tools         |\n",
    "|-----------------------------|\n",
    "| Jupyter Notebook            |\n",
    "| RStudio                     |\n",
    "| Apache Zeppelin             |\n"
   ]
  },
  {
   "cell_type": "markdown",
   "id": "a7988b5b-67a0-4016-b947-ca6a0abbd536",
   "metadata": {},
   "source": [
    "### Below are a few examples of evaluating arithmetic expressions in Python.\r\n"
   ]
  },
  {
   "cell_type": "code",
   "execution_count": 3,
   "id": "30818fa0-6bd8-49b2-8373-4c5fd2351dc1",
   "metadata": {},
   "outputs": [
    {
     "data": {
      "text/plain": [
       "17"
      ]
     },
     "execution_count": 3,
     "metadata": {},
     "output_type": "execute_result"
    }
   ],
   "source": [
    "# This a simple arithmetic expression to mutiply then add integers\n",
    "(3*4)+5"
   ]
  },
  {
   "cell_type": "code",
   "execution_count": 4,
   "id": "5d541ec9-fb91-496c-8aa5-88ae933565e3",
   "metadata": {},
   "outputs": [
    {
     "data": {
      "text/plain": [
       "3.3333333333333335"
      ]
     },
     "execution_count": 4,
     "metadata": {},
     "output_type": "execute_result"
    }
   ],
   "source": [
    "# This will convert 200 minutes to hours by dividing by 60\n",
    "minutes = 200\n",
    "hours = minutes / 60\n",
    "hours\n"
   ]
  },
  {
   "cell_type": "markdown",
   "id": "fe7673bb-aca5-4e47-bbc5-a45c1587cf9e",
   "metadata": {},
   "source": [
    "**Objectives:**\n",
    "\n",
    "- List popular languages for Data Science.  \n",
    "- Identify commonly used libraries in Data Science.  \n",
    "- Demonstrate examples of arithmetic expressions in Python.  \n",
    "- Learn how to convert time from minutes to hours.  \n",
    "- Understand the tools and environments used by Data Scientists.\n"
   ]
  },
  {
   "cell_type": "markdown",
   "id": "3ac12bef-59e5-4a82-ae57-27f7c39e8e72",
   "metadata": {},
   "source": [
    "## Author\n",
    "Ekta Ispande\n"
   ]
  },
  {
   "cell_type": "code",
   "execution_count": null,
   "id": "47c4a574-4374-45f7-9be3-2140f4c04a97",
   "metadata": {},
   "outputs": [],
   "source": []
  }
 ],
 "metadata": {
  "kernelspec": {
   "display_name": "Python 3 (ipykernel)",
   "language": "python",
   "name": "python3"
  },
  "language_info": {
   "codemirror_mode": {
    "name": "ipython",
    "version": 3
   },
   "file_extension": ".py",
   "mimetype": "text/x-python",
   "name": "python",
   "nbconvert_exporter": "python",
   "pygments_lexer": "ipython3",
   "version": "3.12.4"
  }
 },
 "nbformat": 4,
 "nbformat_minor": 5
}
