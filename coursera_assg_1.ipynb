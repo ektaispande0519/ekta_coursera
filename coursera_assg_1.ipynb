{
 "cells": [
  {
   "cell_type": "markdown",
   "id": "cc939928-2c5b-4f33-8ead-102bd0a1488f",
   "metadata": {},
   "source": [
    "Notebook"
   ]
  },
  {
   "cell_type": "markdown",
   "id": "5bbc472d-e564-411e-962e-e6c8dcd99d8f",
   "metadata": {},
   "source": [
    "Introduction\n"
   ]
  },
  {
   "cell_type": "markdown",
   "id": "3b04c678-9b59-41ad-a66a-4f5ce8987b1b",
   "metadata": {},
   "source": [
    "Some popular programming languages used in data science include:\n",
    "\n",
    "1.Python – Widely used for data analysis, machine learning, and visualization due to its extensive libraries (NumPy, pandas, scikit-learn, TensorFlow, etc.).\n",
    "2.R – Popular for statistical computing, data visualization, and analysis (ggplot2, dplyr, caret).\n",
    "3.SQL – Essential for querying and managing structured databases.\n",
    "4.Julia – Known for its high performance in numerical computing and data analysis.\n",
    "5.Scala – Often used with Apache Spark for big data processing.\n",
    "6.Java – Sometimes used in enterprise data science applications and big data frameworks like Hadoop.\n",
    "7.C/C++ – Used for performance-intensive tasks in data science and AI applications.\n",
    "8.MATLAB – Used for numerical computing, data analysis, and visualization in academic and engineering applications.\n",
    "9.SAS – Commonly used in business analytics and statistical modeling.\n",
    "10.JavaScript – Useful for data visualization on web applications using libraries like D3.js."
   ]
  },
  {
   "cell_type": "markdown",
   "id": "44b3c846-9320-4544-bab8-fde62c2c8c5a",
   "metadata": {},
   "source": [
    "Data science libraries categorized by functionality:\n",
    "\n",
    "1. Python Libraries\n",
    "Data Manipulation & Analysis:\n",
    "\n",
    "pandas – Data manipulation and analysis (DataFrames, CSV processing).\n",
    "NumPy – Numerical computing, arrays, and matrix operations.\n",
    "Dask – Parallel computing for large datasets.\n",
    "Machine Learning & AI:\n",
    "\n",
    "scikit-learn – Machine learning algorithms (classification, regression, clustering).\n",
    "TensorFlow – Deep learning framework by Google.\n",
    "PyTorch – Deep learning library by Facebook.\n",
    "XGBoost – Gradient boosting algorithms for predictive modeling.\n",
    "LightGBM – Gradient boosting for large datasets with better speed.\n",
    "Data Visualization:\n",
    "\n",
    "Matplotlib – Basic plotting and visualization.\n",
    "Seaborn – Statistical data visualization based on Matplotlib.\n",
    "Plotly – Interactive visualizations and dashboards.\n",
    "Bokeh – Interactive plots for web applications.\n",
    "Natural Language Processing (NLP):\n",
    "\n",
    "NLTK – Basic NLP tasks (tokenization, stemming).\n",
    "spaCy – Advanced NLP processing with deep learning integration.\n",
    "Gensim – Topic modeling and document similarity.\n",
    "TextBlob – Simplified text processing.\n",
    "Big Data & Distributed Computing:\n",
    "\n",
    "PySpark – Interface for Apache Spark.\n",
    "Dask – Scalable parallel computing.\n",
    "Data Collection & Web Scraping:\n",
    "\n",
    "BeautifulSoup – Web scraping HTML and XML.\n",
    "Scrapy – Advanced web crawling.\n",
    "requests – HTTP requests for web data.\n",
    "Time Series Analysis:\n",
    "\n",
    "statsmodels – Statistical models and hypothesis testing.\n",
    "prophet – Facebook's tool for forecasting time series.\n",
    "2. R Libraries\n",
    "Data Manipulation & Analysis:\n",
    "\n",
    "dplyr – Data manipulation.\n",
    "tidyr – Data tidying and reshaping.\n",
    "data.table – Fast data manipulation.\n",
    "Machine Learning:\n",
    "\n",
    "caret – Machine learning workflow.\n",
    "randomForest – Random forest implementation.\n",
    "xgboost – Gradient boosting.\n",
    "Visualization:\n",
    "\n",
    "ggplot2 – Data visualization and plotting.\n",
    "shiny – Web applications and dashboards.\n",
    "3. SQL and Big Data Tools\n",
    "Apache Spark – Scalable big data processing.\n",
    "Hadoop – Distributed storage and processing.\n",
    "Hive – SQL-based data querying for Hadoop.\n",
    "Presto – SQL-based querying engine for large datasets."
   ]
  },
  {
   "cell_type": "markdown",
   "id": "a032426a-1e31-42b4-969b-e309648478a7",
   "metadata": {},
   "source": [
    "# Data Science Tools\r\n",
    "\r\n",
    "| Category               | Tools                                    | Description                                          |\r\n",
    "|-----------------------|-----------------------------------------|------------------------------------------------------|\r\n",
    "| **Programming Languages** | Python, R, SQL, Julia, Scala, Java       | Used for data manipulation, analysis, and modeling.  |\r\n",
    "| **Data Manipulation**   | Pandas, NumPy, dplyr, data.table         | Handling and processing structured data.             |\r\n",
    "| **Machine Learning**    | Scikit-learn, TensorFlow, PyTorch, XGBoost | Algorithms and frameworks for AI and ML.             |\r\n",
    "| **Visualization**       | Matplotlib, Seaborn, ggplot2, Plotly      | Data visualization and plotting tools.               |\r\n",
    "| **Big Data Processing** | Apache Spark, Hadoop, Dask               | Handling large-scale data efficiently.               |\r\n",
    "| **NLP (Natural Language Processing)** | NLTK, spaCy, Gensim, TextBlob     | Text analysis and language processing.               |\r\n",
    "| **Data Collection**     | BeautifulSoup, Scrapy, requests          | Web scraping and data extraction.                    |\r\n",
    "| **Time Series Analysis**| Statsmodels, Prophet                     | Forecasting and analyzing time-dependent data.       |\r\n",
    "| **Deployment & Automation** | Docker, Kubernetes, MLflow             | Managing and deploying models.                       |\r\n",
    "| **Data Storage**        | MySQL, PostgreSQL, MongoDB, HDFS         | Databases for storing and retrieving data.           |\r\n"
   ]
  },
  {
   "cell_type": "markdown",
   "id": "9d767ca3-135a-4ac3-a1b4-e1523d0d19c0",
   "metadata": {},
   "source": [
    "# Arithmetic Expressions in Python\r\n",
    "\r\n",
    "Arithmetic expressions are used to perform mathematical operations such as addition, subtraction, multiplication, and division. Python provides various operators to handle these operations efficiently.\r\n",
    "\r\n",
    "## Common Arithmetic Operators:\r\n",
    "\r\n",
    "| Operator | Description           | Example           | Result |\r\n",
    "|----------|-----------------------|-------------------|--------|\r\n",
    "| `+`      | Addition               | `5 + 3`            | `8`    |\r\n",
    "| `-`      | Subtraction            | `10 - 4`           | `6`    |\r\n",
    "| `*`      | Multiplication         | `7 * 2`            | `14`   |\r\n",
    "| `/`      | Division               | `15 / 3`           | `5.0`  |\r\n",
    "| `//`     | Floor Division         | `17 // 3`          | `5`    |\r\n",
    "| `%`      | Modulus (Remainder)     | `17 % 3`           | `2`    |\r\n",
    "| `**`     | Exponentiation (Power)  | `2 ** 3`           | `8`    |\r\n",
    "\r\n",
    "## Example Usage in Python:\r\n",
    "\r\n",
    "```python\r\n",
    "# Performing basic arithmetic operations\r\n",
    "a = 10\r\n",
    "b = 3\r\n",
    "\r\n",
    "addition = a + b         # Output: 13\r\n",
    "subtraction = a - b      # Output: 7\r\n",
    "multiplication = a * b   # Output: 30\r\n",
    "division = a / b         # Output: 3.3333\r\n",
    "floor_division = a // b  # Output: 3\r\n",
    "modulus = a % b          # Output: 1\r\n",
    "exponentiation = a ** b  # Output: 1000\r\n",
    "\r\n",
    "print(addition, subtraction, multiplication, division, floor_division, modulus, exponentiation)\r\n"
   ]
  },
  {
   "cell_type": "code",
   "execution_count": 2,
   "id": "b4264b09-573a-4d0f-9710-0584ff6a6ca1",
   "metadata": {},
   "outputs": [
    {
     "name": "stdout",
     "output_type": "stream",
     "text": [
      "Multiplication: 15\n",
      "Addition: 8\n"
     ]
    }
   ],
   "source": [
    "# Multiply and add numbers\n",
    "num1 = 5\n",
    "num2 = 3\n",
    "\n",
    "multiplication_result = num1 * num2\n",
    "addition_result = num1 + num2\n",
    "\n",
    "print(\"Multiplication:\", multiplication_result)\n",
    "print(\"Addition:\", addition_result)\n"
   ]
  },
  {
   "cell_type": "code",
   "execution_count": 3,
   "id": "e27d2120-952f-451f-8198-f1561a04cbec",
   "metadata": {},
   "outputs": [
    {
     "name": "stdout",
     "output_type": "stream",
     "text": [
      "120 minutes is equal to 2.0 hours\n"
     ]
    }
   ],
   "source": [
    "# Convert minutes to hours\n",
    "def convert_minutes_to_hours(minutes):\n",
    "    hours = minutes / 60\n",
    "    return hours\n",
    "\n",
    "# Example conversion\n",
    "minutes = 120\n",
    "print(f\"{minutes} minutes is equal to {convert_minutes_to_hours(minutes)} hours\")\n"
   ]
  },
  {
   "cell_type": "markdown",
   "id": "b5885c63-0a31-4432-b066-c121afe7cde7",
   "metadata": {},
   "source": [
    "# Objectives\r\n",
    "\r\n",
    "- Understand basic arithmetic operations in Python.\r\n",
    "- Learn how to convert time units (minutes to hours).\r\n",
    "- Use Markdown to document code effectively.\r\n",
    "- Develop problem-solving skills through exercises.\r\n",
    "- Gain familiarity with writing and running Python code in Jupyter notebooks.\r\n"
   ]
  },
  {
   "cell_type": "markdown",
   "id": "a4e2b935-72b3-4772-a43d-c970e7efabd8",
   "metadata": {},
   "source": [
    "Author Name:- Ekta Ispande"
   ]
  },
  {
   "cell_type": "code",
   "execution_count": null,
   "id": "8553f504-c291-4f1e-ac5a-3e0dcc9b651c",
   "metadata": {},
   "outputs": [],
   "source": []
  }
 ],
 "metadata": {
  "kernelspec": {
   "display_name": "Python 3 (ipykernel)",
   "language": "python",
   "name": "python3"
  },
  "language_info": {
   "codemirror_mode": {
    "name": "ipython",
    "version": 3
   },
   "file_extension": ".py",
   "mimetype": "text/x-python",
   "name": "python",
   "nbconvert_exporter": "python",
   "pygments_lexer": "ipython3",
   "version": "3.12.4"
  }
 },
 "nbformat": 4,
 "nbformat_minor": 5
}
